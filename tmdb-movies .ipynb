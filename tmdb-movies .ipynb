{
 "cells": [
  {
   "cell_type": "markdown",
   "id": "e955f4d2",
   "metadata": {},
   "source": [
    "\n",
    "\n",
    "# Project: Investigate a Dataset - [TMDB-Movies]\n",
    "\n",
    "## Table of Contents\n",
    "<ul>\n",
    "<li><a href=\"#intro\">Introduction</a></li>\n",
    "<li><a href=\"#Wrangling\">Data Wrangling</a></li>\n",
    "<li><a href=\"#Clean\">Data Cleaning</a>\n",
    "<li><a href=\"#ex\">Exploratory Data Analysis</a>\n",
    "<li><a href=\"#highest\">Questions</a></li>  \n",
    "<li><a href=\"#conc\">Conclusions</a></li>\n",
    "<li><a href=\"#limit\">Limitation</a></li>\n",
    "</ul>"
   ]
  },
  {
   "cell_type": "markdown",
   "id": "1695ff44",
   "metadata": {},
   "source": [
    "<a id='intro'></a>\n",
    "# Introduction\n",
    "Dataset Description\n",
    "The Dataset which will be analysis here is \"TMDb movie data\" this display movies From 1960 To 2015 .. list 21 columns :(id,imdb_id,popularity budget ,revenue ,original_title, cast ,homepage, director, tagline keywords, overview, runtime, genres ,production_companies ,release_date, vote_count ,vote_average, release_year ,budget_adj ,revenue_adj)"
   ]
  },
  {
   "cell_type": "code",
   "execution_count": 244,
   "id": "5fb73a49",
   "metadata": {},
   "outputs": [],
   "source": [
    "# Use this cell to set up import statements for all of the packages that you\n",
    "#   plan to use.\n",
    "import pandas as pd\n",
    "import numpy as np\n",
    "import matplotlib.pyplot as plt\n",
    "%matplotlib inline\n",
    "# Remember to include a 'magic word' so that your visualizations are plotted\n",
    "#   inline with the notebook. See this page for more:\n",
    "#   http://ipython.readthedocs.io/en/stable/interactive/magics.html"
   ]
  },
  {
   "cell_type": "markdown",
   "id": "b54d2d9b",
   "metadata": {},
   "source": [
    "<a id='Wrangling'></a>\n",
    "# Data Wrangling\n",
    "Here Will Load Our DataSet\n",
    "\n",
    "General Properties\n",
    "Tip: You should not perform too many operations in each cell. Create cells freely to explore your data. One option that you can take with this project is to do a lot of explorations in an initial notebook. These don't have to be organized, but make sure you use enough comments to understand the purpose of each code cell. Then, after you're done with your analysis, create a duplicate notebook where you will trim the excess and organize your steps so that you have a flowing, cohesive report."
   ]
  },
  {
   "cell_type": "code",
   "execution_count": 245,
   "id": "2d83d29f",
   "metadata": {},
   "outputs": [
    {
     "data": {
      "text/html": [
       "<div>\n",
       "<style scoped>\n",
       "    .dataframe tbody tr th:only-of-type {\n",
       "        vertical-align: middle;\n",
       "    }\n",
       "\n",
       "    .dataframe tbody tr th {\n",
       "        vertical-align: top;\n",
       "    }\n",
       "\n",
       "    .dataframe thead th {\n",
       "        text-align: right;\n",
       "    }\n",
       "</style>\n",
       "<table border=\"1\" class=\"dataframe\">\n",
       "  <thead>\n",
       "    <tr style=\"text-align: right;\">\n",
       "      <th></th>\n",
       "      <th>id</th>\n",
       "      <th>imdb_id</th>\n",
       "      <th>popularity</th>\n",
       "      <th>budget</th>\n",
       "      <th>revenue</th>\n",
       "      <th>original_title</th>\n",
       "      <th>cast</th>\n",
       "      <th>homepage</th>\n",
       "      <th>director</th>\n",
       "      <th>tagline</th>\n",
       "      <th>...</th>\n",
       "      <th>overview</th>\n",
       "      <th>runtime</th>\n",
       "      <th>genres</th>\n",
       "      <th>production_companies</th>\n",
       "      <th>release_date</th>\n",
       "      <th>vote_count</th>\n",
       "      <th>vote_average</th>\n",
       "      <th>release_year</th>\n",
       "      <th>budget_adj</th>\n",
       "      <th>revenue_adj</th>\n",
       "    </tr>\n",
       "  </thead>\n",
       "  <tbody>\n",
       "    <tr>\n",
       "      <th>0</th>\n",
       "      <td>135397</td>\n",
       "      <td>tt0369610</td>\n",
       "      <td>32.985763</td>\n",
       "      <td>150000000</td>\n",
       "      <td>1513528810</td>\n",
       "      <td>Jurassic World</td>\n",
       "      <td>Chris Pratt|Bryce Dallas Howard|Irrfan Khan|Vi...</td>\n",
       "      <td>http://www.jurassicworld.com/</td>\n",
       "      <td>Colin Trevorrow</td>\n",
       "      <td>The park is open.</td>\n",
       "      <td>...</td>\n",
       "      <td>Twenty-two years after the events of Jurassic ...</td>\n",
       "      <td>124</td>\n",
       "      <td>Action|Adventure|Science Fiction|Thriller</td>\n",
       "      <td>Universal Studios|Amblin Entertainment|Legenda...</td>\n",
       "      <td>6/9/15</td>\n",
       "      <td>5562</td>\n",
       "      <td>6.5</td>\n",
       "      <td>2015</td>\n",
       "      <td>1.379999e+08</td>\n",
       "      <td>1.392446e+09</td>\n",
       "    </tr>\n",
       "  </tbody>\n",
       "</table>\n",
       "<p>1 rows × 21 columns</p>\n",
       "</div>"
      ],
      "text/plain": [
       "       id    imdb_id  popularity     budget     revenue  original_title  \\\n",
       "0  135397  tt0369610   32.985763  150000000  1513528810  Jurassic World   \n",
       "\n",
       "                                                cast  \\\n",
       "0  Chris Pratt|Bryce Dallas Howard|Irrfan Khan|Vi...   \n",
       "\n",
       "                        homepage         director            tagline  ...  \\\n",
       "0  http://www.jurassicworld.com/  Colin Trevorrow  The park is open.  ...   \n",
       "\n",
       "                                            overview runtime  \\\n",
       "0  Twenty-two years after the events of Jurassic ...     124   \n",
       "\n",
       "                                      genres  \\\n",
       "0  Action|Adventure|Science Fiction|Thriller   \n",
       "\n",
       "                                production_companies release_date vote_count  \\\n",
       "0  Universal Studios|Amblin Entertainment|Legenda...       6/9/15       5562   \n",
       "\n",
       "   vote_average  release_year    budget_adj   revenue_adj  \n",
       "0           6.5          2015  1.379999e+08  1.392446e+09  \n",
       "\n",
       "[1 rows x 21 columns]"
      ]
     },
     "execution_count": 245,
     "metadata": {},
     "output_type": "execute_result"
    }
   ],
   "source": [
    "df = pd.read_csv('tmdb-movies2.csv')\n",
    "df.head(1)"
   ]
  },
  {
   "cell_type": "markdown",
   "id": "0f89beac",
   "metadata": {},
   "source": [
    "<a id='Clean'></a>\n",
    "# Data Cleaning\n",
    "\n",
    "\n"
   ]
  },
  {
   "cell_type": "code",
   "execution_count": 246,
   "id": "b62f2fb8",
   "metadata": {},
   "outputs": [],
   "source": [
    "#Here Will Clear Our Data From Unused columns as ('id','imdb_id','popularity','cast','homepage','tagline','overview','release_date','budget_adj','revenue_adj','keywords') and to see the table with simply view with important columns .\n",
    "df.drop(['id','imdb_id','popularity','cast','homepage','tagline','overview','release_date','budget_adj','revenue_adj','keywords'],axis = 1,inplace=True)"
   ]
  },
  {
   "cell_type": "code",
   "execution_count": 247,
   "id": "09eb7f28",
   "metadata": {},
   "outputs": [
    {
     "name": "stdout",
     "output_type": "stream",
     "text": [
      "<class 'pandas.core.frame.DataFrame'>\n",
      "RangeIndex: 10866 entries, 0 to 10865\n",
      "Data columns (total 10 columns):\n",
      " #   Column                Non-Null Count  Dtype  \n",
      "---  ------                --------------  -----  \n",
      " 0   budget                10866 non-null  int64  \n",
      " 1   revenue               10866 non-null  int64  \n",
      " 2   original_title        10866 non-null  object \n",
      " 3   director              10822 non-null  object \n",
      " 4   runtime               10866 non-null  int64  \n",
      " 5   genres                10843 non-null  object \n",
      " 6   production_companies  9836 non-null   object \n",
      " 7   vote_count            10866 non-null  int64  \n",
      " 8   vote_average          10866 non-null  float64\n",
      " 9   release_year          10866 non-null  int64  \n",
      "dtypes: float64(1), int64(5), object(4)\n",
      "memory usage: 849.0+ KB\n"
     ]
    }
   ],
   "source": [
    "df.info()"
   ]
  },
  {
   "cell_type": "markdown",
   "id": "b70f9a78",
   "metadata": {},
   "source": [
    "<a id='null'></a>\n"
   ]
  },
  {
   "cell_type": "code",
   "execution_count": 248,
   "id": "239f8105",
   "metadata": {},
   "outputs": [
    {
     "data": {
      "text/plain": [
       "budget                     0\n",
       "revenue                    0\n",
       "original_title             0\n",
       "director                  44\n",
       "runtime                    0\n",
       "genres                    23\n",
       "production_companies    1030\n",
       "vote_count                 0\n",
       "vote_average               0\n",
       "release_year               0\n",
       "dtype: int64"
      ]
     },
     "execution_count": 248,
     "metadata": {},
     "output_type": "execute_result"
    }
   ],
   "source": [
    "## See If any columns has null values and remove it\n",
    "df.isnull().sum()\n"
   ]
  },
  {
   "cell_type": "code",
   "execution_count": 249,
   "id": "96b3877b",
   "metadata": {},
   "outputs": [],
   "source": [
    "df.dropna(inplace=True)"
   ]
  },
  {
   "cell_type": "code",
   "execution_count": 250,
   "id": "4e2e4099",
   "metadata": {},
   "outputs": [
    {
     "name": "stdout",
     "output_type": "stream",
     "text": [
      "<class 'pandas.core.frame.DataFrame'>\n",
      "Int64Index: 9807 entries, 0 to 10865\n",
      "Data columns (total 10 columns):\n",
      " #   Column                Non-Null Count  Dtype  \n",
      "---  ------                --------------  -----  \n",
      " 0   budget                9807 non-null   int64  \n",
      " 1   revenue               9807 non-null   int64  \n",
      " 2   original_title        9807 non-null   object \n",
      " 3   director              9807 non-null   object \n",
      " 4   runtime               9807 non-null   int64  \n",
      " 5   genres                9807 non-null   object \n",
      " 6   production_companies  9807 non-null   object \n",
      " 7   vote_count            9807 non-null   int64  \n",
      " 8   vote_average          9807 non-null   float64\n",
      " 9   release_year          9807 non-null   int64  \n",
      "dtypes: float64(1), int64(5), object(4)\n",
      "memory usage: 842.8+ KB\n"
     ]
    }
   ],
   "source": [
    "df.info()"
   ]
  },
  {
   "cell_type": "markdown",
   "id": "b714fe8c",
   "metadata": {},
   "source": [
    "<a id='duplicate'></a>\n"
   ]
  },
  {
   "cell_type": "code",
   "execution_count": 251,
   "id": "76274a1a",
   "metadata": {},
   "outputs": [
    {
     "data": {
      "text/plain": [
       "1"
      ]
     },
     "execution_count": 251,
     "metadata": {},
     "output_type": "execute_result"
    }
   ],
   "source": [
    "### See If any columns has duplicated values\n",
    "df.duplicated().sum()"
   ]
  },
  {
   "cell_type": "markdown",
   "id": "56c64c9f",
   "metadata": {},
   "source": []
  },
  {
   "cell_type": "code",
   "execution_count": 252,
   "id": "2a1d98f0",
   "metadata": {},
   "outputs": [],
   "source": [
    "#we found duplicate values ..and should remove it\n",
    "df.drop_duplicates(inplace= True)"
   ]
  },
  {
   "cell_type": "markdown",
   "id": "e94e6050",
   "metadata": {},
   "source": [
    "<a id='ex'></a>\n",
    "# Exploratory Data Analysis"
   ]
  },
  {
   "cell_type": "markdown",
   "id": "e5863abf",
   "metadata": {},
   "source": [
    "<a id='highest'></a>\n",
    "#  What is The Highest Year Of Revenue & Movies Made in It ?"
   ]
  },
  {
   "cell_type": "markdown",
   "id": "5858dc5b",
   "metadata": {},
   "source": []
  },
  {
   "cell_type": "code",
   "execution_count": 253,
   "id": "40e0e75c",
   "metadata": {},
   "outputs": [],
   "source": [
    "#We found Two columns (budget & revenue ) should calculate Net For revenue For each Movie\n",
    "net_revenue = df.revenue - df.budget"
   ]
  },
  {
   "cell_type": "code",
   "execution_count": 254,
   "id": "2a0bc11a",
   "metadata": {},
   "outputs": [],
   "source": [
    "df.insert(2,'net_revenue',net_revenue)"
   ]
  },
  {
   "cell_type": "code",
   "execution_count": 255,
   "id": "c6745e13",
   "metadata": {},
   "outputs": [
    {
     "data": {
      "text/html": [
       "<div>\n",
       "<style scoped>\n",
       "    .dataframe tbody tr th:only-of-type {\n",
       "        vertical-align: middle;\n",
       "    }\n",
       "\n",
       "    .dataframe tbody tr th {\n",
       "        vertical-align: top;\n",
       "    }\n",
       "\n",
       "    .dataframe thead th {\n",
       "        text-align: right;\n",
       "    }\n",
       "</style>\n",
       "<table border=\"1\" class=\"dataframe\">\n",
       "  <thead>\n",
       "    <tr style=\"text-align: right;\">\n",
       "      <th></th>\n",
       "      <th>budget</th>\n",
       "      <th>revenue</th>\n",
       "      <th>net_revenue</th>\n",
       "      <th>original_title</th>\n",
       "      <th>director</th>\n",
       "      <th>runtime</th>\n",
       "      <th>genres</th>\n",
       "      <th>production_companies</th>\n",
       "      <th>vote_count</th>\n",
       "      <th>vote_average</th>\n",
       "      <th>release_year</th>\n",
       "    </tr>\n",
       "  </thead>\n",
       "  <tbody>\n",
       "    <tr>\n",
       "      <th>0</th>\n",
       "      <td>150000000</td>\n",
       "      <td>1513528810</td>\n",
       "      <td>1363528810</td>\n",
       "      <td>Jurassic World</td>\n",
       "      <td>Colin Trevorrow</td>\n",
       "      <td>124</td>\n",
       "      <td>Action|Adventure|Science Fiction|Thriller</td>\n",
       "      <td>Universal Studios|Amblin Entertainment|Legenda...</td>\n",
       "      <td>5562</td>\n",
       "      <td>6.5</td>\n",
       "      <td>2015</td>\n",
       "    </tr>\n",
       "  </tbody>\n",
       "</table>\n",
       "</div>"
      ],
      "text/plain": [
       "      budget     revenue  net_revenue  original_title         director  \\\n",
       "0  150000000  1513528810   1363528810  Jurassic World  Colin Trevorrow   \n",
       "\n",
       "   runtime                                     genres  \\\n",
       "0      124  Action|Adventure|Science Fiction|Thriller   \n",
       "\n",
       "                                production_companies  vote_count  \\\n",
       "0  Universal Studios|Amblin Entertainment|Legenda...        5562   \n",
       "\n",
       "   vote_average  release_year  \n",
       "0           6.5          2015  "
      ]
     },
     "execution_count": 255,
     "metadata": {},
     "output_type": "execute_result"
    }
   ],
   "source": [
    "df.head(1)"
   ]
  },
  {
   "cell_type": "markdown",
   "id": "389b027c",
   "metadata": {},
   "source": []
  },
  {
   "cell_type": "code",
   "execution_count": 256,
   "id": "1143fa42",
   "metadata": {},
   "outputs": [
    {
     "data": {
      "text/plain": [
       "0        1.363529e+09\n",
       "1        2.284364e+08\n",
       "2        1.852382e+08\n",
       "3        1.868178e+09\n",
       "4        1.316249e+09\n",
       "             ...     \n",
       "10861             NaN\n",
       "10862             NaN\n",
       "10863             NaN\n",
       "10864             NaN\n",
       "10865   -1.900000e+04\n",
       "Name: net_revenue, Length: 9806, dtype: float64"
      ]
     },
     "execution_count": 256,
     "metadata": {},
     "output_type": "execute_result"
    }
   ],
   "source": [
    "#Found Some Values is Zero So Will convert this values to null then remove it  ( this steps should made in cleaning Section )\n",
    "df['net_revenue'].replace(0,np.nan)"
   ]
  },
  {
   "cell_type": "code",
   "execution_count": 257,
   "id": "236a5cca",
   "metadata": {},
   "outputs": [],
   "source": [
    "#df['budget','net_revenue'].replace(0,np.nan,inplace=True)"
   ]
  },
  {
   "cell_type": "code",
   "execution_count": 258,
   "id": "4d30ae98",
   "metadata": {
    "scrolled": true
   },
   "outputs": [
    {
     "data": {
      "text/html": [
       "<div>\n",
       "<style scoped>\n",
       "    .dataframe tbody tr th:only-of-type {\n",
       "        vertical-align: middle;\n",
       "    }\n",
       "\n",
       "    .dataframe tbody tr th {\n",
       "        vertical-align: top;\n",
       "    }\n",
       "\n",
       "    .dataframe thead th {\n",
       "        text-align: right;\n",
       "    }\n",
       "</style>\n",
       "<table border=\"1\" class=\"dataframe\">\n",
       "  <thead>\n",
       "    <tr style=\"text-align: right;\">\n",
       "      <th></th>\n",
       "      <th>budget</th>\n",
       "      <th>revenue</th>\n",
       "      <th>net_revenue</th>\n",
       "      <th>original_title</th>\n",
       "      <th>director</th>\n",
       "      <th>runtime</th>\n",
       "      <th>genres</th>\n",
       "      <th>production_companies</th>\n",
       "      <th>vote_count</th>\n",
       "      <th>vote_average</th>\n",
       "      <th>release_year</th>\n",
       "    </tr>\n",
       "  </thead>\n",
       "  <tbody>\n",
       "    <tr>\n",
       "      <th>74</th>\n",
       "      <td>0</td>\n",
       "      <td>0</td>\n",
       "      <td>0</td>\n",
       "      <td>Mythica: The Darkspore</td>\n",
       "      <td>Anne K. Black</td>\n",
       "      <td>108</td>\n",
       "      <td>Action|Adventure|Fantasy</td>\n",
       "      <td>Arrowstorm Entertainment</td>\n",
       "      <td>27</td>\n",
       "      <td>5.1</td>\n",
       "      <td>2015</td>\n",
       "    </tr>\n",
       "    <tr>\n",
       "      <th>75</th>\n",
       "      <td>0</td>\n",
       "      <td>0</td>\n",
       "      <td>0</td>\n",
       "      <td>Me and Earl and the Dying Girl</td>\n",
       "      <td>Alfonso Gomez-Rejon</td>\n",
       "      <td>105</td>\n",
       "      <td>Comedy|Drama</td>\n",
       "      <td>Indian Paintbrush</td>\n",
       "      <td>569</td>\n",
       "      <td>7.7</td>\n",
       "      <td>2015</td>\n",
       "    </tr>\n",
       "    <tr>\n",
       "      <th>92</th>\n",
       "      <td>0</td>\n",
       "      <td>0</td>\n",
       "      <td>0</td>\n",
       "      <td>Mythica: The Necromancer</td>\n",
       "      <td>A. Todd Smith</td>\n",
       "      <td>0</td>\n",
       "      <td>Fantasy|Action|Adventure</td>\n",
       "      <td>Arrowstorm Entertainment|Camera 40 Productions...</td>\n",
       "      <td>11</td>\n",
       "      <td>5.4</td>\n",
       "      <td>2015</td>\n",
       "    </tr>\n",
       "    <tr>\n",
       "      <th>100</th>\n",
       "      <td>0</td>\n",
       "      <td>0</td>\n",
       "      <td>0</td>\n",
       "      <td>Frozen Fever</td>\n",
       "      <td>Chris Buck|Jennifer Lee</td>\n",
       "      <td>8</td>\n",
       "      <td>Adventure|Animation|Family</td>\n",
       "      <td>Walt Disney Pictures|Walt Disney Animation Stu...</td>\n",
       "      <td>475</td>\n",
       "      <td>7.0</td>\n",
       "      <td>2015</td>\n",
       "    </tr>\n",
       "    <tr>\n",
       "      <th>101</th>\n",
       "      <td>0</td>\n",
       "      <td>0</td>\n",
       "      <td>0</td>\n",
       "      <td>High-Rise</td>\n",
       "      <td>Ben Wheatley</td>\n",
       "      <td>119</td>\n",
       "      <td>Action|Drama|Science Fiction</td>\n",
       "      <td>Ingenious Media|HanWay Films|Scope Pictures|Re...</td>\n",
       "      <td>161</td>\n",
       "      <td>5.4</td>\n",
       "      <td>2015</td>\n",
       "    </tr>\n",
       "    <tr>\n",
       "      <th>...</th>\n",
       "      <td>...</td>\n",
       "      <td>...</td>\n",
       "      <td>...</td>\n",
       "      <td>...</td>\n",
       "      <td>...</td>\n",
       "      <td>...</td>\n",
       "      <td>...</td>\n",
       "      <td>...</td>\n",
       "      <td>...</td>\n",
       "      <td>...</td>\n",
       "      <td>...</td>\n",
       "    </tr>\n",
       "    <tr>\n",
       "      <th>10860</th>\n",
       "      <td>0</td>\n",
       "      <td>0</td>\n",
       "      <td>0</td>\n",
       "      <td>Carry On Screaming!</td>\n",
       "      <td>Gerald Thomas</td>\n",
       "      <td>87</td>\n",
       "      <td>Comedy</td>\n",
       "      <td>Peter Rogers Productions|Anglo-Amalgamated Fil...</td>\n",
       "      <td>13</td>\n",
       "      <td>7.0</td>\n",
       "      <td>1966</td>\n",
       "    </tr>\n",
       "    <tr>\n",
       "      <th>10861</th>\n",
       "      <td>0</td>\n",
       "      <td>0</td>\n",
       "      <td>0</td>\n",
       "      <td>The Endless Summer</td>\n",
       "      <td>Bruce Brown</td>\n",
       "      <td>95</td>\n",
       "      <td>Documentary</td>\n",
       "      <td>Bruce Brown Films</td>\n",
       "      <td>11</td>\n",
       "      <td>7.4</td>\n",
       "      <td>1966</td>\n",
       "    </tr>\n",
       "    <tr>\n",
       "      <th>10862</th>\n",
       "      <td>0</td>\n",
       "      <td>0</td>\n",
       "      <td>0</td>\n",
       "      <td>Grand Prix</td>\n",
       "      <td>John Frankenheimer</td>\n",
       "      <td>176</td>\n",
       "      <td>Action|Adventure|Drama</td>\n",
       "      <td>Cherokee Productions|Joel Productions|Douglas ...</td>\n",
       "      <td>20</td>\n",
       "      <td>5.7</td>\n",
       "      <td>1966</td>\n",
       "    </tr>\n",
       "    <tr>\n",
       "      <th>10863</th>\n",
       "      <td>0</td>\n",
       "      <td>0</td>\n",
       "      <td>0</td>\n",
       "      <td>Beregis Avtomobilya</td>\n",
       "      <td>Eldar Ryazanov</td>\n",
       "      <td>94</td>\n",
       "      <td>Mystery|Comedy</td>\n",
       "      <td>Mosfilm</td>\n",
       "      <td>11</td>\n",
       "      <td>6.5</td>\n",
       "      <td>1966</td>\n",
       "    </tr>\n",
       "    <tr>\n",
       "      <th>10864</th>\n",
       "      <td>0</td>\n",
       "      <td>0</td>\n",
       "      <td>0</td>\n",
       "      <td>What's Up, Tiger Lily?</td>\n",
       "      <td>Woody Allen</td>\n",
       "      <td>80</td>\n",
       "      <td>Action|Comedy</td>\n",
       "      <td>Benedict Pictures Corp.</td>\n",
       "      <td>22</td>\n",
       "      <td>5.4</td>\n",
       "      <td>1966</td>\n",
       "    </tr>\n",
       "  </tbody>\n",
       "</table>\n",
       "<p>3836 rows × 11 columns</p>\n",
       "</div>"
      ],
      "text/plain": [
       "       budget  revenue  net_revenue                  original_title  \\\n",
       "74          0        0            0          Mythica: The Darkspore   \n",
       "75          0        0            0  Me and Earl and the Dying Girl   \n",
       "92          0        0            0        Mythica: The Necromancer   \n",
       "100         0        0            0                    Frozen Fever   \n",
       "101         0        0            0                       High-Rise   \n",
       "...       ...      ...          ...                             ...   \n",
       "10860       0        0            0             Carry On Screaming!   \n",
       "10861       0        0            0              The Endless Summer   \n",
       "10862       0        0            0                      Grand Prix   \n",
       "10863       0        0            0             Beregis Avtomobilya   \n",
       "10864       0        0            0          What's Up, Tiger Lily?   \n",
       "\n",
       "                      director  runtime                        genres  \\\n",
       "74               Anne K. Black      108      Action|Adventure|Fantasy   \n",
       "75         Alfonso Gomez-Rejon      105                  Comedy|Drama   \n",
       "92               A. Todd Smith        0      Fantasy|Action|Adventure   \n",
       "100    Chris Buck|Jennifer Lee        8    Adventure|Animation|Family   \n",
       "101               Ben Wheatley      119  Action|Drama|Science Fiction   \n",
       "...                        ...      ...                           ...   \n",
       "10860            Gerald Thomas       87                        Comedy   \n",
       "10861              Bruce Brown       95                   Documentary   \n",
       "10862       John Frankenheimer      176        Action|Adventure|Drama   \n",
       "10863           Eldar Ryazanov       94                Mystery|Comedy   \n",
       "10864              Woody Allen       80                 Action|Comedy   \n",
       "\n",
       "                                    production_companies  vote_count  \\\n",
       "74                              Arrowstorm Entertainment          27   \n",
       "75                                     Indian Paintbrush         569   \n",
       "92     Arrowstorm Entertainment|Camera 40 Productions...          11   \n",
       "100    Walt Disney Pictures|Walt Disney Animation Stu...         475   \n",
       "101    Ingenious Media|HanWay Films|Scope Pictures|Re...         161   \n",
       "...                                                  ...         ...   \n",
       "10860  Peter Rogers Productions|Anglo-Amalgamated Fil...          13   \n",
       "10861                                  Bruce Brown Films          11   \n",
       "10862  Cherokee Productions|Joel Productions|Douglas ...          20   \n",
       "10863                                            Mosfilm          11   \n",
       "10864                            Benedict Pictures Corp.          22   \n",
       "\n",
       "       vote_average  release_year  \n",
       "74              5.1          2015  \n",
       "75              7.7          2015  \n",
       "92              5.4          2015  \n",
       "100             7.0          2015  \n",
       "101             5.4          2015  \n",
       "...             ...           ...  \n",
       "10860           7.0          1966  \n",
       "10861           7.4          1966  \n",
       "10862           5.7          1966  \n",
       "10863           6.5          1966  \n",
       "10864           5.4          1966  \n",
       "\n",
       "[3836 rows x 11 columns]"
      ]
     },
     "execution_count": 258,
     "metadata": {},
     "output_type": "execute_result"
    }
   ],
   "source": [
    "df.dropna(inplace= True)\n",
    "df.query('net_revenue  == 0')"
   ]
  },
  {
   "cell_type": "code",
   "execution_count": 259,
   "id": "7c23fec8",
   "metadata": {},
   "outputs": [
    {
     "data": {
      "text/plain": [
       "2015"
      ]
     },
     "execution_count": 259,
     "metadata": {},
     "output_type": "execute_result"
    }
   ],
   "source": [
    "# Calculate the Most year has Reveneu\n",
    "highest_year_revenue = df.groupby('release_year')['net_revenue'].sum()\n",
    "\n",
    "highest_year_revenue.idxmax()"
   ]
  },
  {
   "cell_type": "code",
   "execution_count": 329,
   "id": "d7ad88e9",
   "metadata": {},
   "outputs": [],
   "source": [
    "#this function used to calculate the count of variable  \n",
    "def count(a,b):\n",
    "    count = df.groupby(a)[b].sum().value_counts()\n",
    "    return (count)"
   ]
  },
  {
   "cell_type": "code",
   "execution_count": 330,
   "id": "84df62a6",
   "metadata": {},
   "outputs": [],
   "source": [
    "#This Function is used to calculate the maimum and mininmm values for two variables\n",
    "def max(x,y):\n",
    "    max_value = df.groupby(x)[y].sum().idxmax()\n",
    "    min_value = df.groupby(x)[y].sum().idxmin()\n",
    "    return (max_value,min_value)"
   ]
  },
  {
   "cell_type": "markdown",
   "id": "00672741",
   "metadata": {},
   "source": []
  },
  {
   "cell_type": "code",
   "execution_count": 323,
   "id": "7d9805f1",
   "metadata": {},
   "outputs": [
    {
     "data": {
      "text/plain": [
       "2014"
      ]
     },
     "execution_count": 323,
     "metadata": {},
     "output_type": "execute_result"
    }
   ],
   "source": [
    "## Calculate Most Year Made Movies \n",
    "highest_year_movies = df.groupby('release_year')['original_title'].count()\n",
    "\n",
    "highest_year_movies.idxmax()"
   ]
  },
  {
   "cell_type": "code",
   "execution_count": 332,
   "id": "c637f206",
   "metadata": {},
   "outputs": [
    {
     "data": {
      "text/plain": [
       "(2015, 1966)"
      ]
     },
     "execution_count": 332,
     "metadata": {},
     "output_type": "execute_result"
    }
   ],
   "source": [
    "# Here I Use Max Function to get the  maximum and minimum  Years for net revenue\n",
    "max('release_year','net_revenue')"
   ]
  },
  {
   "cell_type": "markdown",
   "id": "a1935e8e",
   "metadata": {},
   "source": [
    "<a id='net_revenue'></a>\n",
    "## What is the best Movie has net revenue and what's the director and its Name ?"
   ]
  },
  {
   "cell_type": "code",
   "execution_count": 263,
   "id": "dc09b2c7",
   "metadata": {},
   "outputs": [
    {
     "data": {
      "text/plain": [
       "(2009,\n",
       " 'James Cameron',\n",
       " 2544505847,\n",
       " 'Action|Adventure|Fantasy|Science Fiction',\n",
       " 'Avatar')"
      ]
     },
     "execution_count": 263,
     "metadata": {},
     "output_type": "execute_result"
    }
   ],
   "source": [
    "df.groupby(['release_year','director','net_revenue','genres','original_title'])['net_revenue'].sum().idxmax()"
   ]
  },
  {
   "cell_type": "code",
   "execution_count": null,
   "id": "1d52adac",
   "metadata": {
    "scrolled": true
   },
   "outputs": [],
   "source": [
    "plt.figure(figsize=(12,6))\n",
    "plt.xlabel('Realse Year For Movies',fontsize=12)\n",
    "plt.ylabel('Net Revenue',fontsize=12)\n",
    "plt.title('highest year revenue',fontsize=12)\n",
    "plt.plot(highest_year_revenue)\n"
   ]
  },
  {
   "cell_type": "markdown",
   "id": "ae995c07",
   "metadata": {},
   "source": [
    "###### This Plot Describe How the Progress Of The  Movies by Years Till Now"
   ]
  },
  {
   "cell_type": "markdown",
   "id": "7596cca7",
   "metadata": {},
   "source": [
    "<a id='geners_increase'></a>\n",
    "\n",
    "##  How Genres Of Movies increased by years  & Whats The Most Genres Dominate in years?\n"
   ]
  },
  {
   "cell_type": "code",
   "execution_count": 278,
   "id": "820c4f51",
   "metadata": {},
   "outputs": [
    {
     "data": {
      "text/html": [
       "<div>\n",
       "<style scoped>\n",
       "    .dataframe tbody tr th:only-of-type {\n",
       "        vertical-align: middle;\n",
       "    }\n",
       "\n",
       "    .dataframe tbody tr th {\n",
       "        vertical-align: top;\n",
       "    }\n",
       "\n",
       "    .dataframe thead th {\n",
       "        text-align: right;\n",
       "    }\n",
       "</style>\n",
       "<table border=\"1\" class=\"dataframe\">\n",
       "  <thead>\n",
       "    <tr style=\"text-align: right;\">\n",
       "      <th></th>\n",
       "      <th>release_year</th>\n",
       "      <th>genres</th>\n",
       "    </tr>\n",
       "  </thead>\n",
       "  <tbody>\n",
       "    <tr>\n",
       "      <th>0</th>\n",
       "      <td>2015</td>\n",
       "      <td>Action</td>\n",
       "    </tr>\n",
       "    <tr>\n",
       "      <th>1</th>\n",
       "      <td>2015</td>\n",
       "      <td>Adventure</td>\n",
       "    </tr>\n",
       "    <tr>\n",
       "      <th>2</th>\n",
       "      <td>2015</td>\n",
       "      <td>Science Fiction</td>\n",
       "    </tr>\n",
       "    <tr>\n",
       "      <th>3</th>\n",
       "      <td>2015</td>\n",
       "      <td>Thriller</td>\n",
       "    </tr>\n",
       "    <tr>\n",
       "      <th>4</th>\n",
       "      <td>2015</td>\n",
       "      <td>Action</td>\n",
       "    </tr>\n",
       "    <tr>\n",
       "      <th>...</th>\n",
       "      <td>...</td>\n",
       "      <td>...</td>\n",
       "    </tr>\n",
       "    <tr>\n",
       "      <th>24707</th>\n",
       "      <td>1966</td>\n",
       "      <td>Mystery</td>\n",
       "    </tr>\n",
       "    <tr>\n",
       "      <th>24708</th>\n",
       "      <td>1966</td>\n",
       "      <td>Comedy</td>\n",
       "    </tr>\n",
       "    <tr>\n",
       "      <th>24709</th>\n",
       "      <td>1966</td>\n",
       "      <td>Action</td>\n",
       "    </tr>\n",
       "    <tr>\n",
       "      <th>24710</th>\n",
       "      <td>1966</td>\n",
       "      <td>Comedy</td>\n",
       "    </tr>\n",
       "    <tr>\n",
       "      <th>24711</th>\n",
       "      <td>1966</td>\n",
       "      <td>Horror</td>\n",
       "    </tr>\n",
       "  </tbody>\n",
       "</table>\n",
       "<p>24712 rows × 2 columns</p>\n",
       "</div>"
      ],
      "text/plain": [
       "       release_year           genres\n",
       "0              2015           Action\n",
       "1              2015        Adventure\n",
       "2              2015  Science Fiction\n",
       "3              2015         Thriller\n",
       "4              2015           Action\n",
       "...             ...              ...\n",
       "24707          1966          Mystery\n",
       "24708          1966           Comedy\n",
       "24709          1966           Action\n",
       "24710          1966           Comedy\n",
       "24711          1966           Horror\n",
       "\n",
       "[24712 rows x 2 columns]"
      ]
     },
     "execution_count": 278,
     "metadata": {},
     "output_type": "execute_result"
    }
   ],
   "source": [
    "#The Column Of Genres Has One or more than Genres So ... I Split This Column To Show Every Genres clear and count that..and show the Genres and Release Year Only To Find Relation Between Those .\n",
    "genres_release_year = pd.DataFrame(df.genres.str.split('|').tolist(),index=df.release_year).stack()\n",
    "genres_release_year = genres_release_year.reset_index([0, 'release_year'])\n",
    "genres_release_year.columns = ['release_year', 'genres']\n",
    "genres_release_year\n"
   ]
  },
  {
   "cell_type": "code",
   "execution_count": 333,
   "id": "7c6ed1af",
   "metadata": {},
   "outputs": [
    {
     "data": {
      "text/plain": [
       "Annie                      2\n",
       "The Thomas Crown Affair    2\n",
       "Crossroads                 2\n",
       "Fallen                     2\n",
       "Cinderella                 2\n",
       "Name: original_title, dtype: int64"
      ]
     },
     "execution_count": 333,
     "metadata": {},
     "output_type": "execute_result"
    }
   ],
   "source": [
    "# Here I Use count  Function to get the  Top 5 Miximum number of all Movies in each genres in all years\n",
    "count('genres','original_title').head()"
   ]
  },
  {
   "cell_type": "code",
   "execution_count": 280,
   "id": "89a7044e",
   "metadata": {},
   "outputs": [
    {
     "data": {
      "image/png": "[encoded data removed]",
      "text/plain": [
       "<Figure size 2520x720 with 1 Axes>"
      ]
     },
     "metadata": {},
     "output_type": "display_data"
    }
   ],
   "source": [
    "count_genres = genres_release_year.groupby('genres')['release_year'].sum()\n",
    "count_genres.idxmax()\n",
    "#count_genres=df[genres].idxmax()\n",
    "plt.figure(figsize=(35,10))\n",
    "plt.xlabel('Genres Of Movies',fontsize=12)\n",
    "count_genres.plot.pie();\n"
   ]
  },
  {
   "cell_type": "markdown",
   "id": "2e767d05",
   "metadata": {},
   "source": [
    "###### This Plot shows different between all genres of movies"
   ]
  },
  {
   "cell_type": "code",
   "execution_count": 276,
   "id": "4bd6dc6f",
   "metadata": {},
   "outputs": [
    {
     "data": {
      "text/plain": [
       "(2014, 'Drama')"
      ]
     },
     "execution_count": 276,
     "metadata": {},
     "output_type": "execute_result"
    }
   ],
   "source": [
    "#Calculate Most Genres Get Revenue by year by groupby the release year and genres counts\n",
    "genres_most_year = genres_release_year.groupby('release_year')['genres'].value_counts()\n",
    "genres_most_year\n",
    "genres_most_year.idxmax()"
   ]
  },
  {
   "cell_type": "markdown",
   "id": "b9229792",
   "metadata": {},
   "source": [
    "## This plot describe numbers of genres in last 10 years ..the most genres is thrilller in 2014"
   ]
  },
  {
   "cell_type": "markdown",
   "id": "2bfd298a",
   "metadata": {},
   "source": []
  },
  {
   "cell_type": "code",
   "execution_count": 277,
   "id": "33369b07",
   "metadata": {},
   "outputs": [
    {
     "data": {
      "image/png": "[encoded data removed]",
      "text/plain": [
       "<Figure size 1440x720 with 1 Axes>"
      ]
     },
     "metadata": {
      "needs_background": "light"
     },
     "output_type": "display_data"
    }
   ],
   "source": [
    "genres_release_year.query('release_year > 2009').groupby('release_year')['genres'].value_counts().plot(kind='area', figsize=(20,10),color='blue',alpha=1)\n",
    "plt.title('Most Genres of movies Last 10 Years', fontsize = 25)\n",
    "plt.xlabel('Genres Of Movies By Years',fontsize=25 )\n",
    "plt.ylabel('Numbers',fontsize=25)\n",
    "plt.show()"
   ]
  },
  {
   "cell_type": "markdown",
   "id": "6d1013d9",
   "metadata": {},
   "source": [
    "<a id='director'></a>\n",
    "# What is the  Best Director By Voting & Revenue ?"
   ]
  },
  {
   "cell_type": "code",
   "execution_count": 334,
   "id": "4c6ce5c6",
   "metadata": {},
   "outputs": [
    {
     "data": {
      "text/plain": [
       "'Christopher Nolan'"
      ]
     },
     "execution_count": 334,
     "metadata": {},
     "output_type": "execute_result"
    }
   ],
   "source": [
    "#calculate Best Director By Voting\n",
    "df.groupby('director').sum()['vote_count'].idxmax()"
   ]
  },
  {
   "cell_type": "code",
   "execution_count": 335,
   "id": "48c4fb21",
   "metadata": {},
   "outputs": [
    {
     "data": {
      "text/plain": [
       "Drama             189\n",
       "Comedy            181\n",
       "Documentary       130\n",
       "Horror             93\n",
       "Comedy|Romance     79\n",
       "Name: genres, dtype: int64"
      ]
     },
     "execution_count": 335,
     "metadata": {},
     "output_type": "execute_result"
    }
   ],
   "source": [
    "# Here I Use count function to calculate the count of genres related to its directors\n",
    "directors_geners = count('director','genres')\n",
    "directors_geners.head()"
   ]
  },
  {
   "cell_type": "code",
   "execution_count": 295,
   "id": "b624bdf0",
   "metadata": {},
   "outputs": [
    {
     "data": {
      "text/plain": [
       "'Steven Spielberg'"
      ]
     },
     "execution_count": 295,
     "metadata": {},
     "output_type": "execute_result"
    }
   ],
   "source": [
    "#Calculate Best Director By Revenue with groupby  and sum of revenue then get most sum revenue for all movies of this director\n",
    "df.groupby('director')['net_revenue'].sum().idxmax()"
   ]
  },
  {
   "cell_type": "code",
   "execution_count": 296,
   "id": "b4d8984e",
   "metadata": {},
   "outputs": [
    {
     "data": {
      "text/plain": [
       "'Comedy'"
      ]
     },
     "execution_count": 296,
     "metadata": {},
     "output_type": "execute_result"
    }
   ],
   "source": [
    "#Calculate Most Genres By Revenue with groupby  and sum of revenue then get most sum revenue for all movies of this Revenue .\n",
    "best_genres = df.groupby('genres')['net_revenue'].sum().idxmax()\n",
    "best_genres"
   ]
  },
  {
   "cell_type": "markdown",
   "id": "c1de4398",
   "metadata": {},
   "source": [
    "<a id='conc'></a>\n",
    "\n",
    "# Conclusions\n",
    "\n",
    "* Highest year for revenue from 1960 till 2015 is 2015.\n",
    "* Most Movies product in years  was in 2014.\n",
    "* Best Movie Revenue is 'Avatar' in 2009 and director is 'James Cameron' .\n",
    "* Most Genres is all Years is Drama Then action .\n",
    "* Most Genres of Movies was Produced in year was Drama in 2011 .\n",
    "* Best Director by Voting was 'Christopher Nolan' .\n",
    "* Best Director by Net Revenue was 'Steven Spielberg'.\n",
    "* Most Geners for revenue  was 'Comedy'."
   ]
  },
  {
   "cell_type": "markdown",
   "id": "19636ec9",
   "metadata": {},
   "source": [
    "<a id='limit'></a>\n",
    "# Limitations"
   ]
  },
  {
   "cell_type": "markdown",
   "id": "acbb6757",
   "metadata": {},
   "source": [
    "I Remove From Column 'Net_revenue' the 'zero' values after cleaning  because  its appear in the last  & i want the calculate the movies only has revenue to compare with others "
   ]
  }
 ],
 "metadata": {
  "kernelspec": {
   "display_name": "Python 3",
   "language": "python",
   "name": "python3"
  },
  "language_info": {
   "codemirror_mode": {
    "name": "ipython",
    "version": 3
   },
   "file_extension": ".py",
   "mimetype": "text/x-python",
   "name": "python",
   "nbconvert_exporter": "python",
   "pygments_lexer": "ipython3",
   "version": "3.8.8"
  }
 },
 "nbformat": 4,
 "nbformat_minor": 5
}
